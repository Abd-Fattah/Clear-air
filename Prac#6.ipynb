{
 "cells": [
  {
   "cell_type": "code",
   "execution_count": 4,
   "id": "25ed45b8-d0c2-4de8-ba33-a40bed3bf847",
   "metadata": {},
   "outputs": [],
   "source": [
    "import random\n",
    "import string"
   ]
  },
  {
   "cell_type": "code",
   "execution_count": 49,
   "id": "e0d573fa-f7e8-4317-992b-f4f936480106",
   "metadata": {},
   "outputs": [],
   "source": [
    "def get_random_string(length):\n",
    "    # choose from all lowercase letter\n",
    "    letters = string.ascii_lowercase\n",
    "    result_str = ''.join(random.choice(letters) for i in range(length))\n",
    "    return result_str\n",
    "\n",
    "locations = [get_random_string(5) for item in range(26)]"
   ]
  },
  {
   "cell_type": "code",
   "execution_count": 85,
   "id": "7ea0c39f-8eeb-41a8-ba77-ca5a0a12e3a9",
   "metadata": {},
   "outputs": [
    {
     "name": "stdin",
     "output_type": "stream",
     "text": [
      "Enter the color of the car-->  red\n",
      "Enter the idx of location-->  24\n",
      "Enter the full name of cars owner-->  mg\n"
     ]
    }
   ],
   "source": [
    "class vehicle:\n",
    "    def __init__(self):\n",
    "        self.color = input(\"Enter the color of the car--> \")\n",
    "        self.location = int(input(\"Enter the idx of location--> \"))\n",
    "        self.owner = input('Enter the full name of cars owner--> ')\n",
    "    \n",
    "    def description(self):\n",
    "        if self.location > 25:\n",
    "            self.location = 1\n",
    "        return f\"The vehicle is {self.color} and has owner {self.owner}. The actual location: {locations[self.location]}\"\n",
    "    \n",
    "    def change_location(self):\n",
    "        self.location = int(input(\"Enter the idx of location where you want to move--> \"))\n",
    "        \n",
    "    def change_owner(self):\n",
    "        self.owner = input('You are changing the actual car owner. Enter please full name of new owner--> ')\n",
    "        \n",
    "    \n",
    "    def __repr__(self):\n",
    "        return self.description()\n",
    "    \n",
    "    def __str__(self):\n",
    "        return self.description()\n",
    "    \n",
    "Kia = vehicle()"
   ]
  },
  {
   "cell_type": "code",
   "execution_count": 86,
   "id": "f27c9047-0e12-4238-b0fe-ff001c489146",
   "metadata": {},
   "outputs": [
    {
     "data": {
      "text/plain": [
       "'The vehicle is red and has owner mg. The actual location: qsskv'"
      ]
     },
     "execution_count": 86,
     "metadata": {},
     "output_type": "execute_result"
    }
   ],
   "source": [
    "Kia.description()"
   ]
  },
  {
   "cell_type": "code",
   "execution_count": 87,
   "id": "0fc6822c-ff70-4058-a78d-203d8a75fa3c",
   "metadata": {},
   "outputs": [
    {
     "name": "stdin",
     "output_type": "stream",
     "text": [
      "Enter the idx of location where you want to move-->  2\n"
     ]
    }
   ],
   "source": [
    "Kia.change_location()"
   ]
  },
  {
   "cell_type": "code",
   "execution_count": 88,
   "id": "86e64893-0c36-4a7b-ad0e-4e3ab573a085",
   "metadata": {},
   "outputs": [
    {
     "data": {
      "text/plain": [
       "'The vehicle is red and has owner mg. The actual location: gyktz'"
      ]
     },
     "execution_count": 88,
     "metadata": {},
     "output_type": "execute_result"
    }
   ],
   "source": [
    "Kia.description()"
   ]
  },
  {
   "cell_type": "code",
   "execution_count": 89,
   "id": "e2e5293d-cc8e-4e86-861f-f58005d98c4a",
   "metadata": {},
   "outputs": [
    {
     "name": "stdin",
     "output_type": "stream",
     "text": [
      "You are changing the actual car owner. Enter please full name of new owner-->  FR\n"
     ]
    }
   ],
   "source": [
    "Kia.change_owner()"
   ]
  },
  {
   "cell_type": "code",
   "execution_count": 90,
   "id": "1bc3267b-adb3-400e-9931-61c35d90ffdd",
   "metadata": {},
   "outputs": [
    {
     "data": {
      "text/plain": [
       "'The vehicle is red and has owner FR. The actual location: gyktz'"
      ]
     },
     "execution_count": 90,
     "metadata": {},
     "output_type": "execute_result"
    }
   ],
   "source": [
    "Kia.description()"
   ]
  },
  {
   "cell_type": "code",
   "execution_count": 91,
   "id": "6537081a-1c28-4048-829d-fe744ea11c0d",
   "metadata": {},
   "outputs": [
    {
     "data": {
      "text/plain": [
       "The vehicle is red and has owner FR. The actual location: gyktz"
      ]
     },
     "execution_count": 91,
     "metadata": {},
     "output_type": "execute_result"
    }
   ],
   "source": [
    "Kia"
   ]
  },
  {
   "cell_type": "code",
   "execution_count": 77,
   "id": "a9027c73-dde4-45de-8446-5091fa716621",
   "metadata": {},
   "outputs": [],
   "source": [
    "class Bus(vehicle):    \n",
    "    \n",
    "    def change_location(self):\n",
    "        self.location = int(input(\"Enter the idx of location where you want to move--> \"))\n",
    "        \n",
    "    def description(self):\n",
    "        if self.location > 25:\n",
    "            self.location = 1\n",
    "        self.seats = int(input(\"Enter amount of passenger seats in Bus--> \"))\n",
    "        return f\"The bus is {self.color} and has owner {self.owner}. The actual location: {locations[self.location]}. The amount of passenger seats: {self.seats}\"\n",
    "    \n",
    "    def __repr__(self):\n",
    "        return self.description()\n",
    "    \n",
    "    def __str__(self):\n",
    "        return self.description()\n",
    "\n",
    "class Cargo(vehicle):\n",
    "    def change_location(self):\n",
    "        self.location = int(input(\"Enter the idx of location where you want to move--> \"))\n",
    "        \n",
    "    def description(self):\n",
    "        if self.location > 25:\n",
    "            self.location = 1\n",
    "        self.payload = int(input(\"Enter load capacity of the cargo--> \"))\n",
    "        return f\"The cargo is {self.color} and has owner {self.owner}. The actual location: {locations[self.location]}. The load capacity is: {self.payload} kilos\"\n",
    "    \n",
    "    def __repr__(self):\n",
    "        return self.description()\n",
    "    \n",
    "    def __str__(self):\n",
    "        return self.description()"
   ]
  },
  {
   "cell_type": "code",
   "execution_count": 79,
   "id": "fe5c8565-7000-416d-824b-71361a269d1d",
   "metadata": {},
   "outputs": [
    {
     "name": "stdin",
     "output_type": "stream",
     "text": [
      "Enter the color of the car-->  red\n",
      "Enter the idx of location-->  24\n",
      "Enter the full name of cars owner-->  MG\n"
     ]
    }
   ],
   "source": [
    "Mercedes = Bus()"
   ]
  },
  {
   "cell_type": "code",
   "execution_count": 80,
   "id": "4741ca03-62f6-426a-869e-d750e34ac349",
   "metadata": {},
   "outputs": [
    {
     "name": "stdin",
     "output_type": "stream",
     "text": [
      "Enter amount of passenger seats in Bus-->  40\n"
     ]
    },
    {
     "data": {
      "text/plain": [
       "'The bus is red and has owner MG. The actual location: qsskv. The amount of passenger seats: 40'"
      ]
     },
     "execution_count": 80,
     "metadata": {},
     "output_type": "execute_result"
    }
   ],
   "source": [
    "Mercedes.description()"
   ]
  },
  {
   "cell_type": "code",
   "execution_count": 81,
   "id": "f7386bfd-c7d6-4700-a8ee-ea787250cd23",
   "metadata": {},
   "outputs": [
    {
     "name": "stdin",
     "output_type": "stream",
     "text": [
      "Enter the idx of location where you want to move-->  32\n"
     ]
    }
   ],
   "source": [
    "Mercedes.change_location()"
   ]
  },
  {
   "cell_type": "code",
   "execution_count": 82,
   "id": "10e2b0bf-5e6c-4787-b89e-7c98284a64a4",
   "metadata": {},
   "outputs": [
    {
     "name": "stdin",
     "output_type": "stream",
     "text": [
      "Enter amount of passenger seats in Bus-->  40\n"
     ]
    },
    {
     "data": {
      "text/plain": [
       "The bus is red and has owner MG. The actual location: wqiuk. The amount of passenger seats: 40"
      ]
     },
     "execution_count": 82,
     "metadata": {},
     "output_type": "execute_result"
    }
   ],
   "source": [
    "Mercedes"
   ]
  },
  {
   "cell_type": "code",
   "execution_count": 83,
   "id": "9413320e-4483-44c2-92f4-d53da17abd96",
   "metadata": {},
   "outputs": [
    {
     "name": "stdin",
     "output_type": "stream",
     "text": [
      "Enter the color of the car-->  red\n",
      "Enter the idx of location-->  24\n",
      "Enter the full name of cars owner-->  mg\n"
     ]
    }
   ],
   "source": [
    "Scania = Cargo()"
   ]
  },
  {
   "cell_type": "code",
   "execution_count": 84,
   "id": "fa07d56b-fbf3-46e4-bbc2-06222334245a",
   "metadata": {},
   "outputs": [
    {
     "name": "stdin",
     "output_type": "stream",
     "text": [
      "Enter load capacity of the cargo-->  240\n"
     ]
    },
    {
     "data": {
      "text/plain": [
       "The cargo is red and has owner mg. The actual location: qsskv. The load capacity is: 240 kilos"
      ]
     },
     "execution_count": 84,
     "metadata": {},
     "output_type": "execute_result"
    }
   ],
   "source": [
    "Scania"
   ]
  },
  {
   "cell_type": "code",
   "execution_count": 92,
   "id": "c9762ee0-4fe7-46ad-96a8-4dbf7a59f0f5",
   "metadata": {},
   "outputs": [
    {
     "name": "stdin",
     "output_type": "stream",
     "text": [
      "Enter load capacity of the cargo-->  240\n"
     ]
    },
    {
     "name": "stdout",
     "output_type": "stream",
     "text": [
      "The cargo is red and has owner mg. The actual location: qsskv. The load capacity is: 240 kilos\n"
     ]
    }
   ],
   "source": [
    "print(Scania)"
   ]
  }
 ],
 "metadata": {
  "kernelspec": {
   "display_name": "Python 3 (ipykernel)",
   "language": "python",
   "name": "python3"
  },
  "language_info": {
   "codemirror_mode": {
    "name": "ipython",
    "version": 3
   },
   "file_extension": ".py",
   "mimetype": "text/x-python",
   "name": "python",
   "nbconvert_exporter": "python",
   "pygments_lexer": "ipython3",
   "version": "3.10.8"
  }
 },
 "nbformat": 4,
 "nbformat_minor": 5
}

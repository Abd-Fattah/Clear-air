{
 "cells": [
  {
   "cell_type": "markdown",
   "id": "24624e7d-c438-4950-9e35-1f1879781f2a",
   "metadata": {
    "tags": []
   },
   "source": [
    "# L9. OOP"
   ]
  },
  {
   "cell_type": "markdown",
   "id": "a11d13ff-dc47-4108-a830-b62591661c2d",
   "metadata": {},
   "source": [
    "## Объектно ориентированное программирование"
   ]
  },
  {
   "cell_type": "code",
   "execution_count": 43,
   "id": "60539fa1-f35f-4000-a0c5-07ed0086cd2d",
   "metadata": {
    "tags": []
   },
   "outputs": [
    {
     "data": {
      "text/plain": [
       "'Snoopy is 4 years old'"
      ]
     },
     "execution_count": 43,
     "metadata": {},
     "output_type": "execute_result"
    }
   ],
   "source": [
    "class Animal:\n",
    "    \n",
    "    def __init__(self, name, age):\n",
    "        self.name = name\n",
    "        self.age = age\n",
    "        self._id = 0\n",
    "        \n",
    "    def description(self):\n",
    "        return f\"{self.name} is {self.age} years old\"\n",
    "    \n",
    "    def speak(self, sound = \"\"):\n",
    "        print(sound)\n",
    "        \n",
    "snoopy = Animal(\"Snoopy\", 4)\n",
    "\n",
    "snoopy.description()"
   ]
  },
  {
   "cell_type": "code",
   "execution_count": 62,
   "id": "7fb3d92a-9e6c-4155-9302-645c9c306493",
   "metadata": {},
   "outputs": [
    {
     "data": {
      "text/plain": [
       "Buddy is 3 years old and can bark"
      ]
     },
     "execution_count": 62,
     "metadata": {},
     "output_type": "execute_result"
    }
   ],
   "source": [
    "class Dog(Animal):\n",
    "    def description(self):\n",
    "        return f\"{self.name} is {self.age} years old and can bark\"\n",
    "    \n",
    "    def speak(self, sound = \"woof\"):\n",
    "        super().speak(sound)\n",
    "    \n",
    "    def __repr__(self):\n",
    "        return self.description()\n",
    "    \n",
    "class Cat(Animal):\n",
    "    def description(self):\n",
    "        return f\"{self.name} is {self.age} years old and use a litterbox\"\n",
    "    \n",
    "    def speak(self, sound = \"meow\"):\n",
    "        super().speak(sound)\n",
    "    \n",
    "buddy = Dog(\"Buddy\", 3)\n",
    "raffles = Cat(\"Raffles\", 5)\n",
    "\n",
    "buddy"
   ]
  },
  {
   "cell_type": "markdown",
   "id": "d4490e38-c5a5-4b73-b098-131e9a36217c",
   "metadata": {
    "tags": []
   },
   "source": [
    "## Timeframe"
   ]
  },
  {
   "cell_type": "code",
   "execution_count": 70,
   "id": "5cfdc3d5-8c8a-4f2e-ba66-60d4a9bf4e17",
   "metadata": {},
   "outputs": [],
   "source": [
    "import pandas as pd\n",
    "\n",
    "class BasicTimeframe:\n",
    "    \n",
    "    def __init__(self, time_from, time_to, camera_id, eco_df, car_df, expectations):\n",
    "        self.time_from = time_from\n",
    "        self.time_to = time_to\n",
    "        self.camera_id = camera_id\n",
    "        self.eco_df = eco_df\n",
    "        self.car_df = car_df\n",
    "        self.expectations = expectations\n",
    "        \n",
    "    def __str__(self):\n",
    "        return f\"A timeframe from {self.time_from} to {self.time_to} on camera {self.camera_id}\"\n",
    "    \n",
    "    def score(self):\n",
    "        pass\n",
    "    "
   ]
  },
  {
   "cell_type": "code",
   "execution_count": null,
   "id": "42d74f69-8a75-4a9a-9474-72e8087ff0ec",
   "metadata": {},
   "outputs": [],
   "source": [
    "class LinearLaneEvaluationTF(BasicTimeframe):\n",
    "    def score(self):\n",
    "        # с учетом полосности по которой двигался авто линейно\n",
    "        \n",
    "        \n",
    "class QuadLaneEvaluationTF(BasicTimeframe):\n",
    "    def score(self):\n",
    "        # с учетом полосности по которой двигался авто квардатично"
   ]
  },
  {
   "cell_type": "code",
   "execution_count": 64,
   "id": "3f434aba-9c97-4086-bf34-72d9fe20f169",
   "metadata": {},
   "outputs": [],
   "source": [
    "\n",
    "eco_df = pd.read_csv(\"ecodata2.csv\")\n",
    "car_df = pd.read_csv(\"cardata2.csv\")\n",
    "\n",
    "eco_df.sort_values(by=['time'], inplace=True)\n",
    "car_df.sort_values(by=['time'], inplace=True)\n",
    "\n",
    "time_from = pd.to_datetime('12/10/22 17:45')\n",
    "time_to = pd.to_datetime('12/10/22 17:46')\n",
    "\n",
    "eco_df_part = eco_df.loc[(pd.to_datetime(eco_df['time']) >= time_from) & \n",
    "                         (pd.to_datetime(eco_df['time']) < time_to) & \n",
    "                         (eco_df['camera_id'] == 420)]\n",
    "\n",
    "car_df_part = car_df.loc[(pd.to_datetime(car_df['time']) >= time_from) & \n",
    "                         (pd.to_datetime(car_df['time']) < time_to) & \n",
    "                         (car_df['camera_id'] == 420)]"
   ]
  },
  {
   "cell_type": "code",
   "execution_count": 65,
   "id": "efc81e32-fa44-4eaf-853e-1d3e7d33f13d",
   "metadata": {},
   "outputs": [],
   "source": [
    "tf_basic = BasicTimeframe(time_from, time_to, 420, eco_df_part, car_df_part, {})\n",
    "tf_linear = LinearLaneEvaluationTF(time_from, time_to, 420, eco_df_part, car_df_part, {})\n",
    "tf_quad = QuadLaneEvaluationTF(time_from, time_to, 420, eco_df_part, car_df_part, {})\n",
    "\n",
    "\n",
    "tf_basic.score()\n",
    "tf_linear.score()\n",
    "tf_quad.score()"
   ]
  },
  {
   "cell_type": "code",
   "execution_count": 69,
   "id": "167a6518-f5ca-41dc-8510-1936ba0e9a46",
   "metadata": {},
   "outputs": [
    {
     "data": {
      "text/plain": [
       "Timestamp('2022-12-10 17:45:00')"
      ]
     },
     "execution_count": 69,
     "metadata": {},
     "output_type": "execute_result"
    }
   ],
   "source": [
    "tf.time_from"
   ]
  }
 ],
 "metadata": {
  "kernelspec": {
   "display_name": "Python 3 (ipykernel)",
   "language": "python",
   "name": "python3"
  },
  "language_info": {
   "codemirror_mode": {
    "name": "ipython",
    "version": 3
   },
   "file_extension": ".py",
   "mimetype": "text/x-python",
   "name": "python",
   "nbconvert_exporter": "python",
   "pygments_lexer": "ipython3",
   "version": "3.9.13"
  }
 },
 "nbformat": 4,
 "nbformat_minor": 5
}

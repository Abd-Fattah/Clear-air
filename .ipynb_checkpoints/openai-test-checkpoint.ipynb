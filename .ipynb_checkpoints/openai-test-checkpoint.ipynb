{
 "cells": [
  {
   "cell_type": "code",
   "execution_count": 27,
   "id": "b4406d71-11bb-4d0d-80d7-9d3e99deda54",
   "metadata": {},
   "outputs": [
    {
     "name": "stdout",
     "output_type": "stream",
     "text": [
      "ChatCompletionMessage(content='🏡 Новое предложение на рынке недвижимости! 🏡\\n\\nПривет, дорогие подписчики! Сегодня я хочу поделиться с вами уникальным объектом, который только что появился в нашем портфолио.\\n\\n📍 Расположение: прекрасный район Хиллсайд с прекрасными видами на город. Тихая и спокойная улица, вдали от шума и суеты, но при этом в шаговой доступности от магазинов, ресторанов и важных объектов инфраструктуры.\\n\\n🏠 Объект: это восхитительный дом площадью 250 квадратных метров на участке площадью 800 квадратных метров. Вас ждут 5 просторных спален, 3 современные ванные комнаты, стильная кухня с островом и уютная гостиная, идеально подходящая для семейных посиделок и вечеринок с друзьями.\\n\\n🌳 Но это еще не все! На территории участка вы найдете прекрасные ландшафтные элементы: пышные зеленые газоны, красивый сад с яркими цветами и прекрасным озеленением. Главным украшением участка является изящный бассейн, где вы сможете наслаждаться летними днями и отдохнуть после рабочей недели.\\n\\n💰 Цена: всего $500,000! Это действительно выгодное предложение за такое пространство и роскошь в районе, который так востребован среди наших клиентов.\\n\\n💼 Почему это выгодно для вас? Не только вы получите шикарное жилье для вашей семьи, но и инвестицию, которая будет приносить вам дивиденды в будущем. Недвижимость в этом районе быстро растет в цене, поэтому вы сможете сэкономить и заработать одновременно.\\n\\n📲 Если вы заинтересованы в этом доме и хотите узнать больше информации, не стесняйтесь обращаться ко мне в директ или по номеру телефона, указанному в описании. Я с радостью организую просмотр для вас!\\n\\nНе упустите эту уникальную возможность стать владельцем этого роскошного дома в престижном районе. Жду ваших заявок и звонков! 💼🔑🏠✨\\n\\n#недвижимость #продажа #дом #распродажа #инвестиции #жизньвпрестижномдоме #риэлтор #акция #выгодно', role='assistant', function_call=None, tool_calls=None)\n"
     ]
    }
   ],
   "source": [
    "from openai import OpenAI\n",
    "\n",
    "client = OpenAI(api_key=OPENAI_API_KEY)\n",
    "\n",
    "completion = client.chat.completions.create(\n",
    "  model=\"gpt-3.5-turbo\",\n",
    "  messages=[\n",
    "    {\"role\": \"system\", \"content\": \"Ты риэлтор, который ведет свой инстрагамм аккаунт.\"},\n",
    "    {\"role\": \"user\", \"content\": \"Напиши пост, с картинками дома, который ты продаешь. Подробно опиши дом, его расположение и цену, также привлеки клиента и заинтересуй его выгодным предложением.\"}\n",
    "  ]\n",
    ")\n",
    "\n",
    "print(completion.choices[0].message)"
   ]
  },
  {
   "cell_type": "code",
   "execution_count": null,
   "id": "ce2cc58a-0042-4591-a474-964dbb27e6fd",
   "metadata": {},
   "outputs": [],
   "source": [
    "dataset_path = 'Housing.csv'"
   ]
  },
  {
   "cell_type": "code",
   "execution_count": null,
   "id": "aace9b5f-1f21-465e-8fae-2163c1ce17fd",
   "metadata": {},
   "outputs": [],
   "source": [
    "df = pd.read_csv(dataset_path)\n",
    "\n",
    "houses = []\n",
    "\n",
    "houses = df.to_dict(orient='records')"
   ]
  },
  {
   "cell_type": "code",
   "execution_count": null,
   "id": "68221f3a-b170-4222-b90c-f9ce66ffef1a",
   "metadata": {},
   "outputs": [],
   "source": [
    "affordable_houses = []\n",
    "moderate_houses = []\n",
    "aboveAverage_houses = []\n",
    "highEnd_houses = []\n",
    "luxury_houses = []\n",
    "premiumLuxury_houses = []\n",
    "\n",
    "for price in houses:\n",
    "    if price <= 2000000:\n",
    "    if price <= 4000000:\n",
    "    if price <= 6000000:\n",
    "    if price <= 8000000:\n",
    "    if price <= 10000000:\n",
    "    else:\n"
   ]
  },
  {
   "cell_type": "code",
   "execution_count": null,
   "id": "e210f490-c975-46ee-8ad2-b3db8916b455",
   "metadata": {},
   "outputs": [],
   "source": [
    "affordable_houses = [price for price in affordable_houses if price.get(\"mainroad\", False)]"
   ]
  }
 ],
 "metadata": {
  "kernelspec": {
   "display_name": "Python 3 (ipykernel)",
   "language": "python",
   "name": "python3"
  },
  "language_info": {
   "codemirror_mode": {
    "name": "ipython",
    "version": 3
   },
   "file_extension": ".py",
   "mimetype": "text/x-python",
   "name": "python",
   "nbconvert_exporter": "python",
   "pygments_lexer": "ipython3",
   "version": "3.10.8"
  }
 },
 "nbformat": 4,
 "nbformat_minor": 5
}

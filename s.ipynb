{
 "cells": [
  {
   "cell_type": "markdown",
   "id": "0e7e1aa6-46dc-40b6-bd4c-20b91b43c559",
   "metadata": {},
   "source": [
    "# S6. App Structure"
   ]
  },
  {
   "cell_type": "markdown",
   "id": "9868664a-bb0b-4688-baa4-4365f6d0fdb5",
   "metadata": {},
   "source": [
    "## Алгоритм\n",
    "\n",
    "1. На входе данные за 1 час - показания по экологии и деперсонализированные события по авто\n",
    "2. Каждый автомобиль получает или теряет баллы в зависимости от показаний экодатчиков в момент проезда\n",
    "3. Математика начисления баллов (и выставления порогов) модернизируется с каждой итерацией\n",
    "4. Авто, чьи баллы превысили порог, передаются на обработку экополиции, те возвращаются к нам с информацией о том, какая достигнута точность\n",
    "5. Повторяем пока не получим нужную точность"
   ]
  },
  {
   "cell_type": "markdown",
   "id": "ac7d5ae2-4d35-4b7b-97c5-8063d557f950",
   "metadata": {},
   "source": [
    "## 1. Получение входных данных\n",
    "\n",
    "1. Отсортировать данные по времени\n",
    "2. Распределить по локациям\n",
    "3. Сформировать временные фреймы\n",
    "4. Упаковать по временным фреймам данные по авто и экологии\n"
   ]
  },
  {
   "cell_type": "code",
   "execution_count": null,
   "id": "a99f769b-3508-4da1-a988-5bf6117b0be1",
   "metadata": {},
   "outputs": [],
   "source": [
    "import pandas as pd\n",
    "\n",
    "eco_df = pd.read_csv(\"ecodata2.csv\")\n",
    "car_df = pd.read_csv(\"cardata2.csv\")\n",
    "\n",
    "eco_df.sort_values(by=['time'], inplace=True)\n",
    "car_df.sort_values(by=['time'], inplace=True)"
   ]
  },
  {
   "cell_type": "code",
   "execution_count": null,
   "id": "7e6c0587-cb51-4146-a9a4-3f1071469700",
   "metadata": {},
   "outputs": [],
   "source": [
    "eco_df.head(2)"
   ]
  },
  {
   "cell_type": "code",
   "execution_count": null,
   "id": "68c04a1a-7ea5-48c3-a001-908a3de1743f",
   "metadata": {},
   "outputs": [],
   "source": [
    "time_from = pd.to_datetime('12/10/22 17:45')\n",
    "time_to = pd.to_datetime('12/10/22 17:47')\n",
    "\n",
    "eco_df.loc[(pd.to_datetime(eco_df['time']) >= time_from) & (pd.to_datetime(eco_df['time']) < time_to)]"
   ]
  },
  {
   "cell_type": "code",
   "execution_count": null,
   "id": "66e58370-9cc9-4a13-9257-a10cb29ae166",
   "metadata": {},
   "outputs": [],
   "source": []
  },
  {
   "cell_type": "code",
   "execution_count": null,
   "id": "bdf30fd0-33d1-46a6-b49e-745be9eb4d3d",
   "metadata": {},
   "outputs": [],
   "source": []
  },
  {
   "cell_type": "code",
   "execution_count": null,
   "id": "a87e8016-3d01-47bc-b3df-67e6ffd22221",
   "metadata": {},
   "outputs": [],
   "source": []
  },
  {
   "cell_type": "code",
   "execution_count": null,
   "id": "c4ff8792-b990-48c3-949f-720c5e288365",
   "metadata": {},
   "outputs": [],
   "source": []
  },
  {
   "cell_type": "markdown",
   "id": "40cde1dd-81c6-49e3-818e-24ad91aec9bb",
   "metadata": {},
   "source": [
    "## 2. Начисление баллов\n",
    "\n",
    "1. Сформировать хранилище для баллов\n",
    "2. Подготовить функцию для начисления баллов\n",
    "3. Прогнать входные данные через функцию начисления баллов по каждой локации фрейм за фреймом"
   ]
  },
  {
   "cell_type": "code",
   "execution_count": null,
   "id": "345b2c27-640b-49dc-8d69-92bdfea6f95d",
   "metadata": {},
   "outputs": [],
   "source": [
    "score = {'default' : 0}"
   ]
  },
  {
   "cell_type": "code",
   "execution_count": null,
   "id": "74d45ba9-e2da-4db3-84c6-458633bfac55",
   "metadata": {},
   "outputs": [],
   "source": []
  },
  {
   "cell_type": "code",
   "execution_count": null,
   "id": "e8529dfc-c71d-416e-9003-dc363e4d1a95",
   "metadata": {},
   "outputs": [],
   "source": []
  },
  {
   "cell_type": "markdown",
   "id": "9c5b0fac-d9e3-4a87-8029-18df2505f6c9",
   "metadata": {},
   "source": [
    "## 3. Сохранение результата\n",
    "\n",
    "Сохранить итоговое значение score в файл формата .csv"
   ]
  },
  {
   "cell_type": "code",
   "execution_count": null,
   "id": "2306d7a8-55f0-42c1-86e5-2f2a1e906c72",
   "metadata": {},
   "outputs": [],
   "source": []
  },
  {
   "cell_type": "code",
   "execution_count": null,
   "id": "78bc4b40-99ef-486f-bc2a-8e9eafac7890",
   "metadata": {},
   "outputs": [],
   "source": []
  },
  {
   "cell_type": "code",
   "execution_count": null,
   "id": "46dcd4c7-cbe5-4e19-80eb-28387f80bcbb",
   "metadata": {},
   "outputs": [],
   "source": []
  }
 ],
 "metadata": {
  "kernelspec": {
   "display_name": "Python 3 (ipykernel)",
   "language": "python",
   "name": "python3"
  },
  "language_info": {
   "codemirror_mode": {
    "name": "ipython",
    "version": 3
   },
   "file_extension": ".py",
   "mimetype": "text/x-python",
   "name": "python",
   "nbconvert_exporter": "python",
   "pygments_lexer": "ipython3",
   "version": "3.10.8"
  }
 },
 "nbformat": 4,
 "nbformat_minor": 5
}

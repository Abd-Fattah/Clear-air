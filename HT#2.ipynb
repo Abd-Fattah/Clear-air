{
 "cells": [
  {
   "cell_type": "code",
   "execution_count": 1,
   "id": "3c69e87c-f8fe-4abe-bc02-6858a944bbee",
   "metadata": {},
   "outputs": [
    {
     "name": "stdout",
     "output_type": "stream",
     "text": [
      "(2, 'k')\n",
      "(4, 'w')\n",
      "(5, 'v')\n",
      "(6, 'x')\n",
      "(10, 'f')\n",
      "(11, 'g')\n",
      "(15, 'm')\n",
      "(15, 'y')\n",
      "(16, 'c')\n",
      "(16, 'd')\n",
      "(19, 'b')\n",
      "(20, 'p')\n",
      "(20, 'u')\n",
      "(29, 'h')\n",
      "(31, 'r')\n",
      "(33, 'l')\n",
      "(38, 'n')\n",
      "(41, 'o')\n",
      "(42, 's')\n",
      "(49, 'i')\n",
      "(50, 'a')\n",
      "(74, 't')\n",
      "(86, 'e')\n"
     ]
    },
    {
     "data": {
      "text/plain": [
       "<BarContainer object of 23 artists>"
      ]
     },
     "execution_count": 1,
     "metadata": {},
     "output_type": "execute_result"
    },
    {
     "data": {
      "image/png": "[encoded data removed]",
      "text/plain": [
       "<Figure size 640x480 with 1 Axes>"
      ]
     },
     "metadata": {},
     "output_type": "display_data"
    }
   ],
   "source": [
    "import matplotlib.pyplot as plt\n",
    "import string\n",
    "\n",
    "zen = \"Beautiful is better than ugly.Explicit is better than implicit.Simple is better than complex.Complex is better than complicated.Flat is better than nested.Sparse is better than dense.Readability counts.Special cases aren't special enough to break the rules.Although practicality beats purity.Errors should never pass silently.Unless explicitly silenced.In the face of ambiguity, refuse the temptation to guess.There should be one-- and preferably only one --obvious way to do it.Although that way may not be obvious at first unless you're Dutch.Now is better than never.Although never is often better than *right* now.If the implementation is hard to explain, it's a bad idea.If the implementation is easy to explain, it may be a good idea.Namespaces are one honking great idea -- let's do more of those!\"\n",
    "\n",
    "string_lower = zen.lower()\n",
    "\n",
    "string_lower = string_lower.translate(str.maketrans('', '', string.punctuation))\n",
    "\n",
    "s_zen = set(string_lower)\n",
    "summ = []\n",
    "for s_symbol in s_zen:\n",
    "    count = 0\n",
    "    for symbol in zen:\n",
    "        if s_symbol == symbol:\n",
    "            count += 1\n",
    "    summ.append((count, s_symbol))\n",
    "\n",
    "    \n",
    "summ_sorted = sorted(summ)\n",
    "\n",
    "summ_sorted.pop(len(summ_sorted) - 1)\n",
    "\n",
    "for item in summ_sorted:\n",
    "    print(item)\n",
    "\n",
    "list_of_symbols = [item[1] for item in summ_sorted]\n",
    "list_of_symbols_summ = [item[0] for item in summ_sorted]\n",
    "\n",
    "plt.bar(list_of_symbols, list_of_symbols_summ, linewidth=2.0, color=\"b\")\n"
   ]
  },
  {
   "cell_type": "code",
   "execution_count": 2,
   "id": "3f10be4b-357e-4af5-8d3f-d3129c990557",
   "metadata": {},
   "outputs": [
    {
     "name": "stdout",
     "output_type": "stream",
     "text": [
      "('a', 50)\n",
      "('b', 19)\n",
      "('c', 16)\n",
      "('d', 16)\n",
      "('e', 86)\n",
      "('f', 10)\n",
      "('g', 11)\n",
      "('h', 29)\n",
      "('i', 49)\n",
      "('k', 2)\n",
      "('l', 33)\n",
      "('m', 15)\n",
      "('n', 38)\n",
      "('o', 41)\n",
      "('p', 20)\n",
      "('r', 31)\n",
      "('s', 42)\n",
      "('t', 74)\n",
      "('u', 20)\n",
      "('v', 5)\n",
      "('w', 4)\n",
      "('x', 6)\n",
      "('y', 15)\n"
     ]
    },
    {
     "data": {
      "text/plain": [
       "<BarContainer object of 23 artists>"
      ]
     },
     "execution_count": 2,
     "metadata": {},
     "output_type": "execute_result"
    },
    {
     "data": {
      "image/png": "[encoded data removed]",
      "text/plain": [
       "<Figure size 640x480 with 1 Axes>"
      ]
     },
     "metadata": {},
     "output_type": "display_data"
    }
   ],
   "source": [
    "s_zen = set(string_lower)\n",
    "summ = []\n",
    "for s_symbol in s_zen:\n",
    "    count = 0\n",
    "    for symbol in zen:\n",
    "        if s_symbol == symbol:\n",
    "            count += 1\n",
    "    summ.append((s_symbol, count))\n",
    "\n",
    "    \n",
    "summ_sorted = sorted(summ)\n",
    "\n",
    "summ_sorted.pop(0)\n",
    "\n",
    "for item in summ_sorted:\n",
    "    print(item)\n",
    "\n",
    "list_of_symbols = [item[1] for item in summ_sorted]\n",
    "list_of_symbols_summ = [item[0] for item in summ_sorted]\n",
    "\n",
    "plt.bar(list_of_symbols_summ, list_of_symbols, linewidth=2.0, color=\"r\")\n"
   ]
  },
  {
   "cell_type": "code",
   "execution_count": null,
   "id": "b0d22228-1b94-4c35-8044-e0bac52132f3",
   "metadata": {},
   "outputs": [],
   "source": []
  }
 ],
 "metadata": {
  "kernelspec": {
   "display_name": "Python 3 (ipykernel)",
   "language": "python",
   "name": "python3"
  },
  "language_info": {
   "codemirror_mode": {
    "name": "ipython",
    "version": 3
   },
   "file_extension": ".py",
   "mimetype": "text/x-python",
   "name": "python",
   "nbconvert_exporter": "python",
   "pygments_lexer": "ipython3",
   "version": "3.10.8"
  }
 },
 "nbformat": 4,
 "nbformat_minor": 5
}

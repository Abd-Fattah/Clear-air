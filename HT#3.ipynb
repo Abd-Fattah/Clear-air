{
 "cells": [
  {
   "cell_type": "code",
   "execution_count": 4,
   "id": "03c1a412-b1c2-4722-9657-3d81661e440e",
   "metadata": {},
   "outputs": [],
   "source": [
    "rawdata = [\n",
    "(1663567274, 15.16, 18.07),\n",
    "(1663567276, 14.25, 18.09),\n",
    "(1663567278, 13.31, 18.10),\n",
    "(1663567280, 13.46, 17.98),\n",
    "(1663567282, 15.02, 18.00),\n",
    "(1663567284, 14.85, 18.03),\n",
    "(1663567286, 14.75, 17.98),\n",
    "(1663567288, 13.85, 18.09),\n",
    "(1663567290, 13.33, 18.06),\n",
    "(1663567292, 13.60, 18.10),\n",
    "(1663567294, 26.86, 18.57),\n",
    "(1663567296, 48.42, 18.66),\n",
    "(1663567298, 37.90, 18.72),\n",
    "(1663567300, 30.29, 18.31),\n",
    "(1663567302, 19.81, 18.40),\n",
    "(1663567304, 13.35, 18.23),\n",
    "(1663567306, 14.90, 18.08),\n",
    "(1663567308, 15.24, 18.08),\n",
    "(1663567310, 14.74, 18.20),\n",
    "(1663567312, 13.72, 18.17),\n",
    "(1663567314, 14.09, 18.27),\n",
    "(1663567316, 15.05, 18.32),\n",
    "(1663567318, 13.99, 18.31),\n",
    "(1663567320, 13.54, 18.16),\n",
    "(1663567322, 14.86, 18.20),\n",
    "(1663567324, 13.92, 18.35),\n",
    "(1663567326, 14.90, 18.36),\n",
    "(1663567328, 15.23, 18.35),\n",
    "(1663567330, 14.45, 18.26),\n",
    "(1663567332, 15.08, 18.32),\n",
    "(1663567334, 27.68, 18.42),\n",
    "(1663567336, 30.25, 18.36),\n",
    "(1663567338, 19.99, 18.24),\n",
    "(1663567340, 15.22, 18.37),\n",
    "(1663567342, 14.05, 18.32),\n",
    "(1663567344, 15.26, 18.40),\n",
    "(1663567346, 14.82, 18.40),\n",
    "(1663567348, 13.46, 18.37),\n",
    "(1663567350, 14.68, 18.38),\n",
    "(1663567352, 14.42, 18.47),\n",
    "(1663567354, 15.11, 18.51),\n",
    "(1663567356, 13.83, 18.36),\n",
    "(1663567358, 15.10, 18.43),\n",
    "(1663567360, 36.37, 18.66),\n",
    "(1663567362, 51.23, 18.98),\n",
    "(1663567364, 31.01, 18.83),\n",
    "(1663567366, 24.62, 18.69),\n",
    "(1663567368, 13.73, 18.36),\n",
    "(1663567370, 14.42, 18.48),\n",
    "(1663567372, 14.16, 18.45),    \n",
    "]\n",
    "\n",
    "pm = [item[1] for item in rawdata]\n",
    "temp = [item[2] for item in rawdata]"
   ]
  },
  {
   "cell_type": "code",
   "execution_count": 7,
   "id": "94434940-4444-49c2-8fec-9d9bd5f45402",
   "metadata": {},
   "outputs": [],
   "source": [
    "import matplotlib.pyplot as plt\n",
    "import numpy as np\n",
    "from functools import reduce\n",
    "\n",
    "x = range(len(rawdata))\n",
    "\n",
    "pm_med = sorted(pm)[len(pm)//2]\n",
    "temp_med = sorted(temp)[len(temp)//2]\n",
    "\n",
    "pm_avg = sum(pm)/len(pm)\n",
    "temp_avg = sum(temp)/len(temp)\n"
   ]
  },
  {
   "cell_type": "code",
   "execution_count": 8,
   "id": "749650e7-a17f-4f68-a44a-d6cef77135d3",
   "metadata": {},
   "outputs": [
    {
     "ename": "NameError",
     "evalue": "name 'reduce' is not defined",
     "output_type": "error",
     "traceback": [
      "\u001b[0;31m---------------------------------------------------------------------------\u001b[0m",
      "\u001b[0;31mNameError\u001b[0m                                 Traceback (most recent call last)",
      "Cell \u001b[0;32mIn[8], line 3\u001b[0m\n\u001b[1;32m      1\u001b[0m \u001b[38;5;28;01mimport\u001b[39;00m \u001b[38;5;21;01mmath\u001b[39;00m\n\u001b[0;32m----> 3\u001b[0m temp_sq \u001b[38;5;241m=\u001b[39m math\u001b[38;5;241m.\u001b[39msqrt(\u001b[43mreduce\u001b[49m(\u001b[38;5;28;01mlambda\u001b[39;00m a, b: a \u001b[38;5;241m+\u001b[39m (b \u001b[38;5;241m-\u001b[39m temp_avg)\u001b[38;5;241m*\u001b[39m\u001b[38;5;241m*\u001b[39m\u001b[38;5;241m2\u001b[39m, temp, \u001b[38;5;241m0\u001b[39m) \u001b[38;5;241m/\u001b[39m \u001b[38;5;28mlen\u001b[39m(temp))\n\u001b[1;32m      4\u001b[0m temp_sq_arr \u001b[38;5;241m=\u001b[39m \u001b[38;5;28mlist\u001b[39m(\u001b[38;5;28mmap\u001b[39m(\u001b[38;5;28;01mlambda\u001b[39;00m a: a \u001b[38;5;241m+\u001b[39m temp_sq, temp))\n\u001b[1;32m      6\u001b[0m pm_sq \u001b[38;5;241m=\u001b[39m math\u001b[38;5;241m.\u001b[39msqrt(reduce(\u001b[38;5;28;01mlambda\u001b[39;00m a, b: a \u001b[38;5;241m+\u001b[39m (b \u001b[38;5;241m-\u001b[39m pm_avg)\u001b[38;5;241m*\u001b[39m\u001b[38;5;241m*\u001b[39m\u001b[38;5;241m2\u001b[39m, pm, \u001b[38;5;241m0\u001b[39m) \u001b[38;5;241m/\u001b[39m \u001b[38;5;28mlen\u001b[39m(pm))\n",
      "\u001b[0;31mNameError\u001b[0m: name 'reduce' is not defined"
     ]
    }
   ],
   "source": [
    "import math\n",
    "\n",
    "temp_sq = math.sqrt(reduce(lambda a, b: a + (b - temp_avg)**2, temp, 0) / len(temp))\n",
    "temp_sq_arr = list(map(lambda a: a + temp_sq, temp))\n",
    "\n",
    "pm_sq = math.sqrt(reduce(lambda a, b: a + (b - pm_avg)**2, pm, 0) / len(pm))\n",
    "pm_sq_arr = list(map(lambda a: a + pm_sq, pm))"
   ]
  },
  {
   "cell_type": "code",
   "execution_count": null,
   "id": "03639bde-8979-4271-b370-0c6433e3baac",
   "metadata": {},
   "outputs": [],
   "source": [
    "fitered_data = filter(lambda item: item[1]>(pm_sq+pm_avg) and item[2]>(temp_sq+temp_avg), rawdata)\n",
    "filtered_list = list(fitered_data)\n",
    "filtered_time = [item[0] for item in filtered_list] \n",
    "print(filtered_time)\n",
    "print(filtered_list)"
   ]
  },
  {
   "cell_type": "code",
   "execution_count": null,
   "id": "f1e1fe83-5eab-4f49-bd83-53881ea458f9",
   "metadata": {},
   "outputs": [],
   "source": [
    "spike_counter = reduce(lambda a, b: (b[0], a[1]) if b[0]-a[0] <= 2 else (b[0], a[1]+1), filtered_list, (0, 0))"
   ]
  },
  {
   "cell_type": "code",
   "execution_count": null,
   "id": "2535a757-5f68-4ec8-9c8b-d1361206ea4a",
   "metadata": {},
   "outputs": [],
   "source": [
    "print(spike_counter[1])"
   ]
  },
  {
   "cell_type": "code",
   "execution_count": null,
   "id": "6c5f71f0-da81-4eff-9601-49725d40b5df",
   "metadata": {},
   "outputs": [],
   "source": [
    "mask = 0\n",
    "mask_time = 0 \n",
    "\n",
    "list_of_mask_pm = []\n",
    "list_of_mask_x = []\n",
    "\n",
    "for item in rawdata:\n",
    "    if item[1] > (pm_sq + pm_avg) and item[2]>(temp_sq+temp_avg):\n",
    "        mask = item[1]\n",
    "        mask_time = item[0]\n",
    "    mask_result_x = [idx for idx, tup in enumerate(rawdata) if tup[0] == mask_time ]\n",
    "    mask_result_pm = [idx for idx, tup in enumerate(rawdata) if tup[1] == mask ]\n",
    "\n",
    "    list_of_mask_pm.append(mask)\n",
    "    list_of_mask_x.append(mask_result_x)\n",
    "    \n",
    "mask_pm = []\n",
    "[mask_pm.append(x) for x in list_of_mask_pm if x not in mask_pm] \n",
    "\n",
    "mask_x = [] \n",
    "[mask_x.append(x) for x in list_of_mask_x if x not in mask_x] \n",
    "\n",
    "mask_pm.remove(0)\n",
    "\n",
    "mask_pm_int = [round(mask_pm) for mask_pm in mask_pm]\n",
    "\n",
    "mask_x_flat = [item for sublist in mask_x for item in sublist]\n",
    "  \n",
    "plt.scatter(mask_x_flat, mask_pm_int, color = \"crimson\", s=100)\n",
    "plt.plot(x, pm, linewidth=2.0, color=\"black\", label=\"PM2.5\")\n",
    "plt.plot(x, [pm_med]*len(pm), linewidth=2.0, color=\"y\", label=\"Median\")\n",
    "plt.plot(x, [pm_avg + pm_sq]*len(pm), linewidth=2.0, color=\"green\", label=\"SQ\")"
   ]
  },
  {
   "cell_type": "code",
   "execution_count": null,
   "id": "f6d43f77-3ca6-4823-83bc-d096299fab89",
   "metadata": {},
   "outputs": [],
   "source": []
  }
 ],
 "metadata": {
  "kernelspec": {
   "display_name": "Python 3 (ipykernel)",
   "language": "python",
   "name": "python3"
  },
  "language_info": {
   "codemirror_mode": {
    "name": "ipython",
    "version": 3
   },
   "file_extension": ".py",
   "mimetype": "text/x-python",
   "name": "python",
   "nbconvert_exporter": "python",
   "pygments_lexer": "ipython3",
   "version": "3.10.8"
  }
 },
 "nbformat": 4,
 "nbformat_minor": 5
}
